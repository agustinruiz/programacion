{
 "metadata": {
  "language_info": {
   "codemirror_mode": {
    "name": "ipython",
    "version": 3
   },
   "file_extension": ".py",
   "mimetype": "text/x-python",
   "name": "python",
   "nbconvert_exporter": "python",
   "pygments_lexer": "ipython3",
   "version": "3.8.6-final"
  },
  "orig_nbformat": 2,
  "kernelspec": {
   "name": "python3",
   "display_name": "Python 3.8.6 64-bit",
   "metadata": {
    "interpreter": {
     "hash": "aa780e0bdb2c491df9bae93aba1b199bfbc8b667f5e92efea47ef36aa9eff9df"
    }
   }
  }
 },
 "nbformat": 4,
 "nbformat_minor": 2,
 "cells": [
  {
   "cell_type": "code",
   "execution_count": null,
   "metadata": {},
   "outputs": [],
   "source": []
  },
  {
   "source": [
    "# Count Construct Problem - Tabulation Solution\n",
    "Write a function 'count_construct(target,word_bank) that accept a target string and an array of strings.  \n",
    "The function should return the number of ways that the `target` can be constructed by concatenating elements of the `word_bank` array.  \n",
    "You may reuse elements of word_bank as many times as needed."
   ],
   "cell_type": "markdown",
   "metadata": {}
  },
  {
   "source": [
    "## Primero entiendo el problema con un ejemplo.\n",
    "### Ejemplo: `count_construct(perple,[purp,p,ur,le,purpl])` -> `2`\n",
    "- purp + le\n",
    "- p + ur + p + le\n"
   ],
   "cell_type": "markdown",
   "metadata": {}
  },
  {
   "source": [
    "## Segundo tengo que decidir el tamaño de la tabla\n",
    "### En este caso puedo deducir que el largo de la tabla va a depender del largo del target string ya que es el que tengo que ir construyendo en cada iteracion. Lo tengo que dividir en subproblemas en el que el largo del array sea menor. Y no va a depender del array de palabras ya que no voy a ir removiendo los array del word_bank a medida que los utilizo.  \n",
    "Para empezar empiezo con el largo `len(target) + 1` -> len(abcdef) + 1 = 7\n",
    "\n",
    "<style>\n",
    "table{\n",
    "    border-collapse: collapse;\n",
    "    border-spacing: 0;\n",
    "    /*border:2px solid #ff0000;*/\n",
    "}\n",
    "\n",
    "th{\n",
    "   /* border:2px solid #000000;*/\n",
    "}\n",
    "\n",
    "td{\n",
    "    border:1px solid white;\n",
    "    height:20px;\n",
    "    width:20px;\n",
    "}\n",
    "</style>\n",
    "|0|1|2|3|4|5|6|\n",
    "|-|-|-|-|-|-|-|\n",
    "| | | | | | | |\n",
    "\n",
    "### Necesitamos una forma en que esta tabla represente distintos estados del string por esto la hacemos del largo del string + 1. El +1 es porque necesitamos un lugar para representar la semilla (en este caso el string vacio).\n",
    "\n",
    "### La mejor forma de representar el string en una tabla es la siguiente. Cada letra de mi string se corresponde con una posicion:  \n",
    "![image info](./pictures/Tabulation-countConstruct0.png)  \n",
    "La necesidad de ese ultimo lugar es para representar el resultado necesario y poder incorporar el caso base (la semila correcta).\n"
   ],
   "cell_type": "markdown",
   "metadata": {}
  },
  {
   "source": [
    "## En tercer lugar bueco con que rellenar los campos de la tabla (seed values).  \n",
    "### Para eso es bueno ver cual es el valor de retorno. Mas puntualmente que devuelvo si no hay combinaciones posibles ya que en un principio no estoy seguro si los puedo generar. En este caso `0`\n",
    "|0|1|2|3|4|5|6|7|8|\n",
    "|:-:|:-:|:-:|:-:|:-:|:-:|:-:|:-:|:-:|\n",
    "|0|0|0|0|0|0|0|0|0|\n",
    "### Luego busco la semilla que es el caso mas basico que devuelve un valor valido. En este caso, si el target es un string vacio '', sin importar el array de strings, siempre voy a poder resolverlo sin tomar ningun string por lo que el resultado sera 1.\n",
    "![image info](./pictures/Tabulation-countConstruct1.png)  "
   ],
   "cell_type": "markdown",
   "metadata": {}
  },
  {
   "source": [
    "## Luego busco el algoritmo que tengo que aplicar a las posiciones posteriores en base a la posicion actual del indice arrancando de cero, mientra itero por la tabla.\n",
    "### En este caso, arrancando desde cero, voy a modificar las posiciones desplazandome un valor igual a los largos de las palabras del word_bank array.\n",
    "### Algoritmo:\n",
    "### - Voy a iterar por cada posicion del array y en cada posicion sobre las palabras del word_bank.\n",
    "### - Voy a tomar solo las palabras del word_bank que empiecen con la letra que se corresponde al indice en donde estoy parado.\n",
    "### - Si el valor del campo del array en donde estoy parado es mayor a cero voy a modificar las celdas posteriores.\n",
    "### - Si las letras de la palabra del word_bank coinciden desde donde estoy parado a el largo de la palabra del wordbank => le sumo el valor del indice en donde estoy parado a la posicion `index + len(word_bank[j])`.\n",
    "### Secuencia:  \n",
    "Arrancando desde cero, como es `1` analizo las palabras. Si tomo la primer palabra que empieza con p (purp) y comparo las letras de los indices que le siguen hasta len(purp) = 4. Luego sumo 1 a la posicion.  \n",
    "![image info](./pictures/Tabulation-countConstruct2.png)  \n",
    "Haciendo lo mismo para el resto de las palabras del word bank:  \n",
    "![image info](./pictures/Tabulation-countConstruct3.png)  \n",
    "![image info](./pictures/Tabulation-countConstruct4.png)  \n",
    "Si sigo con la iteracion, para el indice 1, solo puedo tomar una palabra del word bank.  \n",
    "![image info](./pictures/Tabulation-countConstruct5.png)  \n",
    "Si sigo iterando, en la posicion 2 tengo el valor cero. Por lo que no hace falta analizarlo ya que sumara nada a las siguientes posiciones.  \n",
    "![image info](./pictures/Tabulation-countConstruct6.png)  \n",
    "#### Si sigo con la logica al final del algoritmo tendre:  \n",
    "![image info](./pictures/Tabulation-countConstruct7.png)  \n",
    "Se puede ver que en la ultima posicion de la tabla me queda el valor correcto `2`."
   ],
   "cell_type": "markdown",
   "metadata": {}
  },
  {
   "source": [
    "## Calculamos la complejidad:\n",
    "### Siendo: - `m = len(target)` y `n = len(word_bank)`\n",
    "### Para el caso de la complejidad de tiempo:  \n",
    "#### Sera: m por la iteracion en toda la tabla `X` n porque tengo que iterar por todas las palabras del word_bank `X` m ya que en el peor de los casos tengo que comparar todos los caracteres de la palabra del word_bank que tomo con mi array y en el peor de los caso la pelabra del word bank sera igual al largo del target (m).\n",
    "#### => `O(m^2 * n) Time`\n",
    "### Para la complejidad de espacio.\n",
    "#### La tabla es solo un array de enteros.\n",
    "#### => `O(m)` Space\n"
   ],
   "cell_type": "markdown",
   "metadata": {}
  },
  {
   "source": [
    "### Ahora si voy a la resolucion en codigo"
   ],
   "cell_type": "markdown",
   "metadata": {}
  },
  {
   "cell_type": "code",
   "execution_count": 2,
   "metadata": {},
   "outputs": [],
   "source": [
    "def count_construct(target,word_bank):\n",
    "    table = [0] * (len(target) + 1)\n",
    "    table[0] = 1\n",
    "\n",
    "    for i in range(len(target)+1):\n",
    "        if table[i] > 0 :\n",
    "            for word in word_bank:\n",
    "                if i+len(word) <= len(target):\n",
    "                    # if the word matches the characters starting at position i\n",
    "                    auxiliar = target[i:i+len(word)]\n",
    "                    if auxiliar == word:\n",
    "                        table[i+len(word)] += table[i]\n",
    "\n",
    "    return table[len(target)]"
   ]
  },
  {
   "source": [
    "***\n",
    "## Tests\n",
    "### Count construct `abcdef` with the word bank `['ab','abc','cd','def','abcd']` shuld return `1`"
   ],
   "cell_type": "markdown",
   "metadata": {}
  },
  {
   "cell_type": "code",
   "execution_count": 4,
   "metadata": {},
   "outputs": [
    {
     "output_type": "stream",
     "name": "stdout",
     "text": [
      "Count construct 'abcdef' ['ab','abc','cd','def','abcd']: 1\n"
     ]
    }
   ],
   "source": [
    "print(f\"Count construct 'abcdef' ['ab','abc','cd','def','abcd']: {count_construct('abcdef',['ab','abc','cd','def','abcd'])}\")"
   ]
  },
  {
   "source": [
    "### Count construct `purple` with the word bank `['purp','p','ur','le','purpl']` shuld return `2`"
   ],
   "cell_type": "markdown",
   "metadata": {}
  },
  {
   "cell_type": "code",
   "execution_count": 5,
   "metadata": {},
   "outputs": [
    {
     "output_type": "stream",
     "name": "stdout",
     "text": [
      "Count construct 'purple' ['purp','p','ur','le','purpl']: 2\n"
     ]
    }
   ],
   "source": [
    "print(f\"Count construct 'purple' ['purp','p','ur','le','purpl']: {count_construct('purple',['purp','p','ur','le','purpl'])}\")"
   ]
  },
  {
   "source": [
    "### Count construct `skateboard` with the word bank `['bo','rd','ate','t','ska','sk','boar']` shuld return `0`"
   ],
   "cell_type": "markdown",
   "metadata": {}
  },
  {
   "cell_type": "code",
   "execution_count": 6,
   "metadata": {},
   "outputs": [
    {
     "output_type": "stream",
     "name": "stdout",
     "text": [
      "Count construct 'skateboard' ['bo','rd','ate','t','ska','sk','boar']: 0\n"
     ]
    }
   ],
   "source": [
    "print(f\"Count construct 'skateboard' ['bo','rd','ate','t','ska','sk','boar']: {count_construct('skateboard',['bo','rd','ate','t','ska','sk','boar'])}\")"
   ]
  },
  {
   "source": [
    "### Count construct `enterapotentpot` with the word bank `['a','p','ent','enter','ot','o','t']` shuld return `4`"
   ],
   "cell_type": "markdown",
   "metadata": {}
  },
  {
   "cell_type": "code",
   "execution_count": 7,
   "metadata": {},
   "outputs": [
    {
     "output_type": "stream",
     "name": "stdout",
     "text": [
      "Count construct 'enterapotentpot' ['a','p','ent','enter','ot','o','t']: 4\n"
     ]
    }
   ],
   "source": [
    "print(f\"Count construct 'enterapotentpot' ['a','p','ent','enter','ot','o','t']: {count_construct('enterapotentpot',['a','p','ent','enter','ot','o','t'])}\")"
   ]
  },
  {
   "source": [
    "### Count construct `eeeeeeeeeeeeeeeeeeeeeeeeeeeeeeef` with the word bank `['e','ee','eee','eeee','eeeee','eeeeee']` shuld return `0`"
   ],
   "cell_type": "markdown",
   "metadata": {}
  },
  {
   "cell_type": "code",
   "execution_count": 8,
   "metadata": {},
   "outputs": [
    {
     "output_type": "stream",
     "name": "stdout",
     "text": [
      "Count construct 'eeeeeeeeeeeeeeeeeeeeeeeeeeeeeeef' ['e','ee','eee','eeee','eeeee','eeeeee']: 0\n"
     ]
    }
   ],
   "source": [
    "print(f\"Count construct 'eeeeeeeeeeeeeeeeeeeeeeeeeeeeeeef' ['e','ee','eee','eeee','eeeee','eeeeee']: {count_construct('eeeeeeeeeeeeeeeeeeeeeeeeeeeeeeef',['e','ee','eee','eeee','eeeee','eeeeee'])}\")"
   ]
  }
 ]
}