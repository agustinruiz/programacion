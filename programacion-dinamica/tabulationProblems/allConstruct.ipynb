{
 "metadata": {
  "language_info": {
   "codemirror_mode": {
    "name": "ipython",
    "version": 3
   },
   "file_extension": ".py",
   "mimetype": "text/x-python",
   "name": "python",
   "nbconvert_exporter": "python",
   "pygments_lexer": "ipython3",
   "version": "3.8.6-final"
  },
  "orig_nbformat": 2,
  "kernelspec": {
   "name": "python3",
   "display_name": "Python 3.8.6 64-bit",
   "metadata": {
    "interpreter": {
     "hash": "aa780e0bdb2c491df9bae93aba1b199bfbc8b667f5e92efea47ef36aa9eff9df"
    }
   }
  }
 },
 "nbformat": 4,
 "nbformat_minor": 2,
 "cells": [
  {
   "source": [
    "# All Construct Problem - Tabulation Solution\n",
    "Write a function 'all_construct(target,word_bank) that accept a target string and an array of strings.  \n",
    "The function should return a 2D array containing all of the ways that the `target` can be constructed by concatenating elements of the `word_bank` array. Each combination of the 2D array should represent one combination that constructs the target.  \n",
    "You may reuse elements of word_bank as many times as needed."
   ],
   "cell_type": "markdown",
   "metadata": {}
  },
  {
   "source": [
    "## Primero entiendo el problema con un ejemplo.\n",
    "### Ejemplo: `can_construct(abcdef,[ab,abc,cd,def,abcd,ef,c])` -> `[[ab,cd,ef],[ab,c,def],[abc,def],[abcd,ef]]`\n"
   ],
   "cell_type": "markdown",
   "metadata": {}
  },
  {
   "source": [
    "## Segundo tengo que decidir el tamaño de la tabla\n",
    "### En este caso puedo deducir que el largo de la tabla va a depender del largo del target string ya que es el que tengo que ir construyendo en cada iteracion. Lo tengo que dividir en subproblemas en el que el largo del array sea menor. Y no va a depender del array de palabras ya que no voy a ir removiendo los array del word_bank a medida que los utilizo.  \n",
    "Para empezar empiezo con el largo `len(target) + 1` -> len(abcdef) + 1 = 7\n",
    "\n",
    "<style>\n",
    "table{\n",
    "    border-collapse: collapse;\n",
    "    border-spacing: 0;\n",
    "    /*border:2px solid #ff0000;*/\n",
    "}\n",
    "\n",
    "th{\n",
    "   /* border:2px solid #000000;*/\n",
    "}\n",
    "\n",
    "td{\n",
    "    border:1px solid white;\n",
    "    height:20px;\n",
    "    width:20px;\n",
    "}\n",
    "</style>\n",
    "|0|1|2|3|4|5|6|\n",
    "|-|-|-|-|-|-|-|\n",
    "| | | | | | | |\n",
    "\n",
    "### Necesitamos una forma en que esta tabla represente distintos estados del string por esto la hacemos del largo del string + 1. El +1 es porque necesitamos un lugar para representar la semilla (en este caso el string vacio).\n",
    "\n",
    "### La mejor forma de representar el string en una tabla es la siguiente. Cada letra de mi string se corresponde con una posicion:  \n",
    "![image info](./pictures/Tabulation-canConstruct1.png)  \n",
    "La necesidad de ese ultimo lugar es para representar el resultado necesario y poder incorporar el caso base (la semila correcta).\n"
   ],
   "cell_type": "markdown",
   "metadata": {}
  },
  {
   "source": [
    "## En tercer lugar bueco con que rellenar los campos de la tabla (seed values).  \n",
    "### Para eso es bueno ver cual es el valor de retorno. Mas puntualmente que devuelvo si no hay combinaciones posibles ya que en un principio no estoy seguro si los puedo generar. En este caso un array unidimensional vacio `[]`  \n",
    "|0|1|2|3|4|5|6|7|8|\n",
    "|:-:|:-:|:-:|:-:|:-:|:-:|:-:|:-:|:-:|\n",
    "|[]|[]|[]|[]|[]|[]|[]|[]|[]|\n",
    "### Luego busco la semilla que es el caso mas basico que devuelve un valor valido. En este caso, si el target es un string vacio '', sin importar el array de strings, siempre voy a poder resolverlo sin tomar ningun string por lo que el resultado sera un array de dos dimensiones vacio `[[]]`.\n",
    "![image info](./pictures/Tabulation-allConstruct1.png)  "
   ],
   "cell_type": "markdown",
   "metadata": {}
  },
  {
   "source": [
    "## Luego busco el algoritmo que tengo que aplicar a las posiciones posteriores en base a la posicion actual del indice arrancando de cero, mientra itero por la tabla.\n",
    "### En este caso, arrancando desde cero, voy a modificar las posiciones desplazandome un valor igual a los largos de las palabras del word_bank array.\n",
    "### Algoritmo:\n",
    "### - Voy a iterar por cada posicion del array y en cada posicion sobre las palabras del word_bank.\n",
    "### - Voy a tomar solo las palabras del word_bank que empiecen con la letra que se corresponde al indice en donde estoy parado.\n",
    "### - Si el valor del campo del array en donde estoy parado tiene alguna combinacion posible voy a modificar las celdas posteriores.\n",
    "### - Si las letras de la palabra del word_bank coinciden desde donde estoy parado a el largo de la palabra del wordbank => agrego las combinaciones posibles del array origen al destino y a estas combinaciones le agrego la palabra del word bank.\n",
    "### Secuencia:  \n",
    "Arrancando desde cero, como tiene una combinacion posible, analizo las palabras del word bank. Si tomo la primer palabra que empieza con a (ab) y comparo las letras de los indices que le siguen hasta len(ab) = 2. Luego agrego las combinaciones y a cada combinacion le agrego el string ab.  \n",
    "![image info](./pictures/Tabulation-allConstruct2.png)  \n",
    "Haciendo lo mismo para el resto de las palabras del word bank:  \n",
    "![image info](./pictures/Tabulation-allConstruct3.png)  \n",
    "![image info](./pictures/Tabulation-allConstruct4.png)  \n",
    "Si sigo con la iteracion, para el indice 1, no hay combinaciones posibles asi que sigo a la siguiente posicion.  \n",
    "![image info](./pictures/Tabulation-allConstruct5.png)  \n",
    "Si sigo iterando, en la posicion 2 tengo una combinacion posible. Por lo que itero por el word bank. La primer palabra que puedo tomar el `cd` por lo que dos posiciones adelante `len(cd)=2` tengo que agregar las combinaciones de mi posicion actual y a esas combinaciones agregarles `cd`.  \n",
    "![image info](./pictures/Tabulation-allConstruct6.png)  \n",
    "Tomando la siguiente palabra del wordbank que empieza con c:\n",
    "![image info](./pictures/Tabulation-allConstruct7.png)  \n",
    "Aplicando la misma logica para el indice 3:  \n",
    "![image info](./pictures/Tabulation-allConstruct8.png)  \n",
    "Aplicando la misma logica para el indice 4:  \n",
    "![image info](./pictures/Tabulation-allConstruct9.png)  \n",
    "#### Si sigo con la logica al final del algoritmo tendre:  \n",
    "![image info](./pictures/Tabulation-allConstruct10.png)  \n",
    "Se puede ver que en la ultima posicion de la tabla me quedan las 4 combinaciones posibles."
   ],
   "cell_type": "markdown",
   "metadata": {}
  },
  {
   "source": [
    "## Calculamos la complejidad:\n",
    "### Siendo: - `m = len(target)` y `n = len(word_bank)`\n",
    "### Para el caso de la complejidad de tiempo:  \n",
    "#### En este caso nos pide que devolvamos todas las formas posibles de formar el string. Por esto sabemos que va a haber un numero exponencial de strings que vamos a tener que devolver y vamos a tener que construir ese numero exponencial de combinaciones parte por parte por lo que estamos hablando de por lo menos un tiempo exponencial. Y cuando algo se vuelve exponencial ese es realmente el factor limitante (no importa multiplicarlo por otros factores).\n",
    "#### Por lo tanto la complejidad de tiempo sera aproximadamente `O(n^m)`\n",
    "\n",
    "### Lo mismo pasa para la complejidad de espacio.\n",
    "#### La tabla es solo un array que adentro tiene arrays 2d. por lo que se puede decir que es una tabla 3D y cada campo de la tabla puede tener un numero exponencial de combinaciones.\n",
    "#### => la complejidad de espacio es aproximadamente `O(n^m)`\n",
    "\n",
    "### Lo que se dice es que se tiene una `Complejidad Exponencial` y no se puede hacer mejor que eso."
   ],
   "cell_type": "markdown",
   "metadata": {}
  },
  {
   "source": [
    "### Ahora si voy a la resolucion en codigo"
   ],
   "cell_type": "markdown",
   "metadata": {}
  },
  {
   "cell_type": "code",
   "execution_count": 35,
   "metadata": {},
   "outputs": [],
   "source": [
    "def all_construct(target,word_bank):\n",
    "    table = [[] for _ in range(len(target) + 1)]\n",
    "    table[0] = [[]]\n",
    "    \n",
    "    for i in range(len(target)+1):\n",
    "        if len(table[i]) > 0:\n",
    "            for word in word_bank:\n",
    "                if i+len(word) <= len(target):\n",
    "                    # if the word matches the characters starting at position i\n",
    "                    auxiliar = target[i:i+len(word)]\n",
    "                    if auxiliar == word:\n",
    "                        # Genero el array 2d con las nuevas combinaciones (las combinaciones de mi posocion actual con el agregado de la palabra del wrdbank)\n",
    "                        new_combinations = list(map(lambda x: x + [word],table[i]))\n",
    "                        table[i+len(word)] = table[i+len(word)] + new_combinations\n",
    "# Otra forma de hacerlo con for:\n",
    "#                        for combination in table[i]:\n",
    "#                            table[i+len(word)] = table[i+len(word)] + [combination + [word]]\n",
    "\n",
    "    return table[len(target)]"
   ]
  },
  {
   "source": [
    "***\n",
    "## Tests\n",
    "### All construct `abcdef` with the word bank `['ab','abc','cd','def','abcd','ef','c']` shuld return `[['abc', 'def'], ['ab', 'c', 'def'], ['abcd', 'ef'], ['ab', 'cd', 'ef']]`"
   ],
   "cell_type": "markdown",
   "metadata": {}
  },
  {
   "cell_type": "code",
   "execution_count": 36,
   "metadata": {},
   "outputs": [
    {
     "output_type": "stream",
     "name": "stdout",
     "text": [
      "All construct 'abcdef' ['ab','abc','cd','def','abcd','ef','c']: [['abc', 'def'], ['ab', 'c', 'def'], ['abcd', 'ef'], ['ab', 'cd', 'ef']]\n"
     ]
    }
   ],
   "source": [
    "print(f\"All construct 'abcdef' ['ab','abc','cd','def','abcd','ef','c']: {all_construct('abcdef',['ab','abc','cd','def','abcd','ef','c'])}\")"
   ]
  },
  {
   "source": [
    "### All construct `purple` with the word bank `['purp','p','ur','le','purpl']` shuld return `[['purp', 'le'], ['p', 'ur', 'p', 'le']]`"
   ],
   "cell_type": "markdown",
   "metadata": {}
  },
  {
   "cell_type": "code",
   "execution_count": 37,
   "metadata": {},
   "outputs": [
    {
     "output_type": "stream",
     "name": "stdout",
     "text": [
      "All construct 'purple' ['purp','p','ur','le','purpl']: [['purp', 'le'], ['p', 'ur', 'p', 'le']]\n"
     ]
    }
   ],
   "source": [
    "print(f\"All construct 'purple' ['purp','p','ur','le','purpl']: {all_construct('purple',['purp','p','ur','le','purpl'])}\")"
   ]
  },
  {
   "source": [
    "### All construct `skateboard` with the word bank `['bo','rd','ate','t','ska','sk','boar']` shuld return `[]`"
   ],
   "cell_type": "markdown",
   "metadata": {}
  },
  {
   "cell_type": "code",
   "execution_count": 24,
   "metadata": {},
   "outputs": [
    {
     "output_type": "stream",
     "name": "stdout",
     "text": [
      "All construct 'skateboard' ['bo','rd','ate','t','ska','sk','boar']: []\n"
     ]
    }
   ],
   "source": [
    "print(f\"All construct 'skateboard' ['bo','rd','ate','t','ska','sk','boar']: {all_construct('skateboard',['bo','rd','ate','t','ska','sk','boar'])}\")"
   ]
  },
  {
   "source": [
    "### All construct `enterapotentpot` with the word bank `['a','p','ent','enter','ot','o','t']` shuld return `[['enter', 'a', 'p', 'ot', 'ent', 'p', 'ot'], ['enter', 'a', 'p', 'o', 't', 'ent', 'p', 'ot'], ['enter', 'a', 'p', 'ot', 'ent', 'p', 'o', 't'], ['enter', 'a', 'p', 'o', 't', 'ent', 'p', 'o', 't']]`"
   ],
   "cell_type": "markdown",
   "metadata": {}
  },
  {
   "cell_type": "code",
   "execution_count": 25,
   "metadata": {},
   "outputs": [
    {
     "output_type": "stream",
     "name": "stdout",
     "text": [
      "All construct 'enterapotentpot' ['a','p','ent','enter','ot','o','t']: [['enter', 'a', 'p', 'ot', 'ent', 'p', 'ot'], ['enter', 'a', 'p', 'o', 't', 'ent', 'p', 'ot'], ['enter', 'a', 'p', 'ot', 'ent', 'p', 'o', 't'], ['enter', 'a', 'p', 'o', 't', 'ent', 'p', 'o', 't']]\n"
     ]
    }
   ],
   "source": [
    "print(f\"All construct 'enterapotentpot' ['a','p','ent','enter','ot','o','t']: {all_construct('enterapotentpot',['a','p','ent','enter','ot','o','t'])}\")"
   ]
  },
  {
   "source": [
    "### All construct `eeeeeeeef` with the word bank `['e','ee','eee','eeee','eeeee','eeeeee']` shuld return `[]`"
   ],
   "cell_type": "markdown",
   "metadata": {}
  },
  {
   "cell_type": "code",
   "execution_count": 39,
   "metadata": {},
   "outputs": [
    {
     "output_type": "stream",
     "name": "stdout",
     "text": [
      "All construct 'eeeeeeeef' ['e','ee','eee','eeee','eeeee','eeeeee']: []\n"
     ]
    }
   ],
   "source": [
    "print(f\"All construct 'eeeeeeeef' ['e','ee','eee','eeee','eeeee','eeeeee']: {all_construct('eeeeeeeef',['e','ee','eee','eeee','eeeee','eeeeee'])}\")"
   ]
  }
 ]
}