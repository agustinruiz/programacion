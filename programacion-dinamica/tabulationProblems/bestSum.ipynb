{
 "metadata": {
  "language_info": {
   "codemirror_mode": {
    "name": "ipython",
    "version": 3
   },
   "file_extension": ".py",
   "mimetype": "text/x-python",
   "name": "python",
   "nbconvert_exporter": "python",
   "pygments_lexer": "ipython3",
   "version": "3.8.6-final"
  },
  "orig_nbformat": 2,
  "kernelspec": {
   "name": "python3",
   "display_name": "Python 3.8.6 64-bit",
   "metadata": {
    "interpreter": {
     "hash": "aa780e0bdb2c491df9bae93aba1b199bfbc8b667f5e92efea47ef36aa9eff9df"
    }
   }
  }
 },
 "nbformat": 4,
 "nbformat_minor": 2,
 "cells": [
  {
   "source": [
    "# Best Sum Problem - Tabulation Solution\n",
    "Write a function 'best_sum(target_sum,numbers)' that takes in a target sum and an array of numbers as arguments.  \n",
    "The function shuld return an array containing the `shortest` combination of numbers that add up to exactly the target_sum.\n",
    "Constraints:\n",
    "- If there is no combination that adds up to the target_sum, then return null.\n",
    "- If there is a tie for the shortest combination, you may return any one of the shortest.\n",
    "- You may use an element of the array as many times as needed.\n",
    "- You may assume that all inpot numbers are nonnegative."
   ],
   "cell_type": "markdown",
   "metadata": {}
  },
  {
   "source": [
    "## Primero entiendo el problema con un ejemplo.\n",
    "### Ejemplo: `how_sum(8,[2,3,5])` -> `[3,5] o [5,3]`\n",
    "- Respuestas:\n",
    "  - `[2,2,2,2]` -> X\n",
    "  - `[2,3,3]` -> X\n",
    "  - `[3,5]` -> OK `La optima`"
   ],
   "cell_type": "markdown",
   "metadata": {}
  },
  {
   "source": [
    "## Segundo tengo que decidir el tamaño de la tabla\n",
    "### Igual que en los casos anteriores tiene que ver con el target_sum y no con el array de numeros ya que este no varia en las iteraciones. Y como lo mejor es que el ultimo indice de la tabla sea igual a target_sum, el largo de la table debera ser target_sum+1 ya que empieza de cero.\n",
    "### => `len(table) = target_sum + 1`\n",
    "<style>\n",
    "table{\n",
    "    border-collapse: collapse;\n",
    "    border-spacing: 0;\n",
    "    /*border:2px solid #ff0000;*/\n",
    "}\n",
    "\n",
    "th{\n",
    "   /* border:2px solid #000000;*/\n",
    "}\n",
    "\n",
    "td{\n",
    "    border:1px solid white;\n",
    "    height:20px;\n",
    "    width:20px;\n",
    "}\n",
    "</style>\n",
    "|0|1|2|3|4|5|6|7|8|\n",
    "|-|-|-|-|-|-|-|-|-|\n",
    "| | | | | | | | | |"
   ],
   "cell_type": "markdown",
   "metadata": {}
  },
  {
   "source": [
    "## En tercer lugar bueco con que rellenar los campos de la tabla.  \n",
    "### Para eso es bueno ver cual es el valor de retorno. Mas puntualmente que devuelvo si no hay combinaciones posibles ya que en un principio no estoy seguro si los puedo generar. En este caso `None`\n",
    "|0|1|2|3|4|5|6|7|8|\n",
    "|:-:|:-:|:-:|:-:|:-:|:-:|:-:|:-:|:-:|\n",
    "|None|None|None|None|None|None|None|None|None|\n",
    "### Luego busco la semilla que es el caso mas basico que devuelve un valor valido. En este caso, si el target_sum es cero, sin importar el array de numeros, siempre voy a poder resolverlo sin tomar ningun numero por lo que devuelvo el array vacio [] `best_sum(0,[...]) -> []`\n",
    "|0|1|2|3|4|5|6|7|8|\n",
    "|:-:|:-:|:-:|:-:|:-:|:-:|:-:|:-:|:-:|\n",
    "|`[]`|None|None|None|None|None|None|None|None|"
   ],
   "cell_type": "markdown",
   "metadata": {}
  },
  {
   "source": [
    "## Luego busco el algoritmo que tengo que aplicar a las posiciones posteriores en base a la posicion actual del indice arrancando de cero, mientra itero por la tabla.\n",
    "### En este caso, arrancando desde cero voy a modificar las posiciones desplazandome un valor igual a los numeros del array que son los numeros que puedo sumar.\n",
    "### Algoritmo:\n",
    "### - Si el valor del campo en donde estoy parado es distinto de None y en el destino hay un array de longitud mayor a la del array de origen mas uno (ya que le tengo que inyectar el numero) => reemplazo el valor del indice `index + numero` por el contenido de la posicion actual (index)\n",
    "### - le agrego al array de esa posicion (index + numero) el numero que me desplace\n",
    "### Secuencia:  \n",
    "Arrancando desde cero, si tomo el primer numero (2) y me desplazo a esa posicion, al ser el valor null significa que todavia no encontre una combinacion que resuelva ese target.  \n",
    "![image info](./pictures/Tabulation-bestSum1.png)  \n",
    "Entonces reemplazo el destino por [] y le agrego el 2 -> `[2]`  \n",
    "![image info](./pictures/Tabulation-bestSum2.png)  \n",
    "Haciendo lo mismo para el resto de los numeros:  \n",
    "![image info](./pictures/Tabulation-bestSum3.png)  \n",
    "Si sigo con la iteracion, como mi posicion actual es null no hago nada:  \n",
    "![image info](./pictures/Tabulation-bestSum4.png)  \n",
    "Si sigo iterando, en la posicion 2 si tengo un valor valido por lo que si deberia actualizar los valores de adelante.\n",
    "![image info](./pictures/Tabulation-bestSum5.png)  \n",
    "#### En la posicion 5, si aplico la logica de antes, deberia reemplazar el array destino por `[2,3]` pero no es mas corto que el que esta `[5]`. por lo que dejo el que estaba.  \n",
    "Luego sigo y como en la posicion 7 hay null si puedo reemplazar el array de destino con `[2]` y agregarle el 5 -> `[2,5]`\n",
    "![image info](./pictures/Tabulation-bestSum6.png)  \n",
    "Si continuo con la misma logica hasta el final:  \n",
    "![image info](./pictures/Tabulation-bestSum7.png)  \n",
    "En la posicion final me quedara el resultado final.\n"
   ],
   "cell_type": "markdown",
   "metadata": {}
  },
  {
   "source": [
    "## Calculamos la complejidad:\n",
    "### Siendo: - `m = target_sum` y `n = len(numbers)`\n",
    "### Para el caso de la complejidad de tiempo es igual que la de how_sum ya que no agregamos logica extra.  \n",
    "#### Sera: m por la iteracion en toda la tabla `X` n porque en cada posicion tengo que iterar por todos los numeros del array `X` m ya que en el peor de los casos tengo que copiar un array de largo m (el peor de los casos es sumar todos 1) a las posiciones sigientes.\n",
    "#### => `O(m^2 * n) Time`\n",
    "### Lo mismo para la complejidad de espacio.\n",
    "#### Voy a tener un array de largo m y en cada posicion del array puedo tener un array de largo m (todos 1).\n",
    "#### => `O(m^2)` Space\n"
   ],
   "cell_type": "markdown",
   "metadata": {}
  },
  {
   "source": [
    "### Ahora si voy a la resolucion en codigo"
   ],
   "cell_type": "markdown",
   "metadata": {}
  },
  {
   "cell_type": "code",
   "execution_count": 2,
   "metadata": {},
   "outputs": [],
   "source": [
    "def best_sum(target_sum,numbers):\n",
    "    table = [None] * (target_sum + 1)\n",
    "    table[0] = []\n",
    "\n",
    "    for i in range(target_sum+1):\n",
    "        if table[i] is not None:\n",
    "            for num in numbers:\n",
    "                if i+num <= target_sum:\n",
    "                    if table[i+num] is None or len(table[i+num]) > len(table[i])+1:\n",
    "                        table[i+num] = table[i]+[num]\n",
    "\n",
    "    return table[target_sum]"
   ]
  },
  {
   "source": [
    "***\n",
    "## Tests\n",
    "### How sum `7` whith the list `[2,3]` should return `[3, 2, 2]`"
   ],
   "cell_type": "markdown",
   "metadata": {}
  },
  {
   "cell_type": "code",
   "execution_count": 3,
   "metadata": {},
   "outputs": [
    {
     "output_type": "stream",
     "name": "stdout",
     "text": [
      "How sum 7 the list [2,3]: [2, 2, 3]\n"
     ]
    }
   ],
   "source": [
    "print(f\"How sum 7 the list [2,3]: {best_sum(7,[2,3])}\")"
   ]
  },
  {
   "source": [
    "### How sum `7` whith the list `[5,3,4,7]` should return `[7]`"
   ],
   "cell_type": "markdown",
   "metadata": {}
  },
  {
   "cell_type": "code",
   "execution_count": 4,
   "metadata": {},
   "outputs": [
    {
     "output_type": "stream",
     "name": "stdout",
     "text": [
      "How sum 7 the list [5,3,4,7]: [7]\n"
     ]
    }
   ],
   "source": [
    "print(f\"How sum 7 the list [5,3,4,7]: {best_sum(7,[5,3,4,7])}\")"
   ]
  },
  {
   "source": [
    "### How sum `7` whith the list `[2,4]` should return `None`"
   ],
   "cell_type": "markdown",
   "metadata": {}
  },
  {
   "cell_type": "code",
   "execution_count": 5,
   "metadata": {},
   "outputs": [
    {
     "output_type": "stream",
     "name": "stdout",
     "text": [
      "How sum 7 the list [2,4]: None\n"
     ]
    }
   ],
   "source": [
    "print(f\"How sum 7 the list [2,4]: {best_sum(7,[2,4])}\")"
   ]
  },
  {
   "source": [
    "### How sum `8` whith the list `[2,3,5]` should return `[3,5]`"
   ],
   "cell_type": "markdown",
   "metadata": {}
  },
  {
   "cell_type": "code",
   "execution_count": 6,
   "metadata": {},
   "outputs": [
    {
     "output_type": "stream",
     "name": "stdout",
     "text": [
      "How sum 8 the list [2,3,5]: [3, 5]\n"
     ]
    }
   ],
   "source": [
    "print(f\"How sum 8 the list [2,3,5]: {best_sum(8,[2,3,5])}\")"
   ]
  },
  {
   "source": [
    "### How sum `300` whith the list `[7,14]` should return `None`"
   ],
   "cell_type": "markdown",
   "metadata": {}
  },
  {
   "cell_type": "code",
   "execution_count": 7,
   "metadata": {},
   "outputs": [
    {
     "output_type": "stream",
     "name": "stdout",
     "text": [
      "How sum 300 the list [7,14]: None\n"
     ]
    }
   ],
   "source": [
    "print(f\"How sum 300 the list [7,14]: {best_sum(300,[7,14])}\")"
   ]
  }
 ]
}