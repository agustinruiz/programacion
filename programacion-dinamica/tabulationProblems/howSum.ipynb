{
 "metadata": {
  "language_info": {
   "codemirror_mode": {
    "name": "ipython",
    "version": 3
   },
   "file_extension": ".py",
   "mimetype": "text/x-python",
   "name": "python",
   "nbconvert_exporter": "python",
   "pygments_lexer": "ipython3",
   "version": "3.8.6-final"
  },
  "orig_nbformat": 2,
  "kernelspec": {
   "name": "python3",
   "display_name": "Python 3.8.6 64-bit",
   "metadata": {
    "interpreter": {
     "hash": "aa780e0bdb2c491df9bae93aba1b199bfbc8b667f5e92efea47ef36aa9eff9df"
    }
   }
  }
 },
 "nbformat": 4,
 "nbformat_minor": 2,
 "cells": [
  {
   "source": [
    "# How Sum Problem - Tabulation Solution\n",
    "Write a function 'how_sum(target_sum,numbers)' that takes in a target sum and an array of numbers as arguments.\n",
    "The function shuld return an array containing any combination of elements that add up to exactly of target_sum using numbers from the array.\n",
    "Constraints:\n",
    "- If there is no combination that adds up to the target_sum, then return null.\n",
    "- If there are multiple combinations possible, you may return any single one.\n",
    "- You may use an element of the array as many times as needed.\n",
    "- You may assume that all inpot numbers are nonnegative."
   ],
   "cell_type": "markdown",
   "metadata": {}
  },
  {
   "cell_type": "code",
   "execution_count": 1,
   "metadata": {},
   "outputs": [],
   "source": [
    "def how_sum(target_sum,numbers):\n",
    "    table = [None] * (target_sum + 1)\n",
    "    table[0] = []\n",
    "\n",
    "    for i in range(target_sum+1):\n",
    "        if table[i] is not None:\n",
    "            for num in numbers:\n",
    "                if i+num <= target_sum:\n",
    "                    table[i+num] = table[i]+[num]\n",
    "\n",
    "    return table[target_sum]"
   ]
  },
  {
   "source": [
    "***\n",
    "## Tests\n",
    "### How sum `7` whith the list `[2,3]` should return `[3, 2, 2]`"
   ],
   "cell_type": "markdown",
   "metadata": {}
  },
  {
   "cell_type": "code",
   "execution_count": 5,
   "metadata": {},
   "outputs": [
    {
     "output_type": "stream",
     "name": "stdout",
     "text": [
      "How sum 7 the list [2,3]: [3, 2, 2]\n"
     ]
    }
   ],
   "source": [
    "print(f\"How sum 7 the list [2,3]: {how_sum(7,[2,3])}\")"
   ]
  },
  {
   "source": [
    "### How sum `7` whith the list `[5,3,4,7]` should return `[4, 3]`"
   ],
   "cell_type": "markdown",
   "metadata": {}
  },
  {
   "cell_type": "code",
   "execution_count": 6,
   "metadata": {},
   "outputs": [
    {
     "output_type": "stream",
     "name": "stdout",
     "text": [
      "How sum 7 the list [5,3,4,7]: [4, 3]\n"
     ]
    }
   ],
   "source": [
    "print(f\"How sum 7 the list [5,3,4,7]: {how_sum(7,[5,3,4,7])}\")"
   ]
  },
  {
   "source": [
    "### How sum `7` whith the list `[2,4]` should return `None`"
   ],
   "cell_type": "markdown",
   "metadata": {}
  },
  {
   "cell_type": "code",
   "execution_count": 8,
   "metadata": {},
   "outputs": [
    {
     "output_type": "stream",
     "name": "stdout",
     "text": [
      "How sum 7 the list [2,4]: None\n"
     ]
    }
   ],
   "source": [
    "print(f\"How sum 7 the list [2,4]: {how_sum(7,[2,4])}\")"
   ]
  },
  {
   "source": [
    "### How sum `8` whith the list `[2,3,5]` should return `[2,2,2,2]`"
   ],
   "cell_type": "markdown",
   "metadata": {}
  },
  {
   "cell_type": "code",
   "execution_count": 9,
   "metadata": {},
   "outputs": [
    {
     "output_type": "stream",
     "name": "stdout",
     "text": [
      "How sum 8 the list [2,3,5]: [2, 2, 2, 2]\n"
     ]
    }
   ],
   "source": [
    "print(f\"How sum 8 the list [2,3,5]: {how_sum(8,[2,3,5])}\")"
   ]
  },
  {
   "source": [
    "### How sum `300` whith the list `[7,14]` should return `None`"
   ],
   "cell_type": "markdown",
   "metadata": {}
  },
  {
   "cell_type": "code",
   "execution_count": 10,
   "metadata": {},
   "outputs": [
    {
     "output_type": "stream",
     "name": "stdout",
     "text": [
      "How sum 300 the list [7,14]: None\n"
     ]
    }
   ],
   "source": [
    "print(f\"How sum 300 the list [7,14]: {how_sum(300,[7,14])}\")"
   ]
  }
 ]
}